{
 "cells": [
  {
   "cell_type": "markdown",
   "metadata": {
    "deletable": true,
    "editable": true
   },
   "source": [
    "## Theano"
   ]
  },
  {
   "cell_type": "code",
   "execution_count": 19,
   "metadata": {
    "collapsed": false,
    "deletable": true,
    "editable": true
   },
   "outputs": [],
   "source": [
    "import theano\n",
    "from theano import tensor as T"
   ]
  },
  {
   "cell_type": "code",
   "execution_count": 21,
   "metadata": {
    "collapsed": false
   },
   "outputs": [
    {
     "name": "stdout",
     "output_type": "stream",
     "text": [
      "gpu\n"
     ]
    }
   ],
   "source": [
    "# check backend, to change: edit ~/.theanorc file\n",
    "print theano.config.device"
   ]
  },
  {
   "cell_type": "code",
   "execution_count": 2,
   "metadata": {
    "collapsed": false,
    "deletable": true,
    "editable": true
   },
   "outputs": [
    {
     "name": "stdout",
     "output_type": "stream",
     "text": [
      "Net input: 2.50\n"
     ]
    }
   ],
   "source": [
    "# initialize\n",
    "x1 = T.scalar()\n",
    "w1 = T.scalar()\n",
    "w0 = T.scalar()\n",
    "z1 = w1 * x1 + w0\n",
    "\n",
    "# compile\n",
    "net_input = theano.function(inputs = [w1, x1, w0], outputs = z1)\n",
    "\n",
    "# execute\n",
    "print('Net input: %.2f' % net_input(2.0, 1.0, .5))"
   ]
  },
  {
   "cell_type": "markdown",
   "metadata": {
    "deletable": true,
    "editable": true
   },
   "source": [
    "## configurations"
   ]
  },
  {
   "cell_type": "code",
   "execution_count": 3,
   "metadata": {
    "collapsed": false,
    "deletable": true,
    "editable": true
   },
   "outputs": [
    {
     "name": "stdout",
     "output_type": "stream",
     "text": [
      "float64\n"
     ]
    }
   ],
   "source": [
    "# Theano config\n",
    "print theano.config.floatX"
   ]
  },
  {
   "cell_type": "code",
   "execution_count": 4,
   "metadata": {
    "collapsed": false,
    "deletable": true,
    "editable": true
   },
   "outputs": [
    {
     "name": "stdout",
     "output_type": "stream",
     "text": [
      "float32\n"
     ]
    }
   ],
   "source": [
    "theano.config.floatX = 'float32'\n",
    "print theano.config.floatX\n",
    "# theano.config.floatX = 'float64'\n",
    "# print theano.config.floatX"
   ]
  },
  {
   "cell_type": "code",
   "execution_count": 5,
   "metadata": {
    "collapsed": false,
    "deletable": true,
    "editable": true
   },
   "outputs": [
    {
     "name": "stdout",
     "output_type": "stream",
     "text": [
      "cpu\n"
     ]
    }
   ],
   "source": [
    "print theano.config.device"
   ]
  },
  {
   "cell_type": "markdown",
   "metadata": {
    "deletable": true,
    "editable": true
   },
   "source": [
    "## array structures"
   ]
  },
  {
   "cell_type": "code",
   "execution_count": 3,
   "metadata": {
    "collapsed": false,
    "deletable": true,
    "editable": true
   },
   "outputs": [
    {
     "name": "stdout",
     "output_type": "stream",
     "text": [
      "Column sum: [ 2.  4.  6.]\n",
      "Column sum: [ 2.  4.  6.]\n"
     ]
    }
   ],
   "source": [
    "import numpy as np\n",
    "\n",
    "# initialize\n",
    "x = T.fmatrix(name = 'x')\n",
    "x_sum = T.sum(x, axis = 0)\n",
    "\n",
    "# compile\n",
    "calc_sum = theano.function(inputs = [x], outputs = x_sum)\n",
    "\n",
    "# execute Python list\n",
    "ary = [[1, 2, 3], [1, 2, 3]]\n",
    "print 'Column sum:', calc_sum(ary)\n",
    "\n",
    "# execute NumPy array\n",
    "ary = np.array([[1, 2, 3], [1, 2, 3]], \n",
    "               dtype = 'float32')\n",
    "print 'Column sum:', calc_sum(ary)"
   ]
  },
  {
   "cell_type": "markdown",
   "metadata": {
    "deletable": true,
    "editable": true
   },
   "source": [
    "## memory sharing"
   ]
  },
  {
   "cell_type": "code",
   "execution_count": 7,
   "metadata": {
    "collapsed": false,
    "deletable": true,
    "editable": true
   },
   "outputs": [
    {
     "name": "stdout",
     "output_type": "stream",
     "text": [
      "z0: [[ 0.]]\n",
      "z1: [[ 6.]]\n",
      "z2: [[ 12.]]\n",
      "z3: [[ 18.]]\n",
      "z4: [[ 24.]]\n"
     ]
    }
   ],
   "source": [
    "x = T.fmatrix('x')\n",
    "w = theano.shared(np.array([[.0, .0, .0]], dtype = 'float32'))\n",
    "z = x.dot(w.T)\n",
    "update = [[w, w + 1.0]]\n",
    "\n",
    "net_input = theano.function(inputs = [x], updates = update, outputs = z)\n",
    "\n",
    "data = np.array([[1, 2, 3]], dtype = 'float32')\n",
    "\n",
    "for i in range(5):\n",
    "    print 'z%d:' % i, net_input(data)"
   ]
  },
  {
   "cell_type": "markdown",
   "metadata": {
    "deletable": true,
    "editable": true
   },
   "source": [
    "## use the givens variable to keep data on the GPU if it fits into the memory"
   ]
  },
  {
   "cell_type": "code",
   "execution_count": 8,
   "metadata": {
    "collapsed": false,
    "deletable": true,
    "editable": true
   },
   "outputs": [
    {
     "name": "stdout",
     "output_type": "stream",
     "text": [
      "z0 : [[ 0.]]\n",
      "z1 : [[ 6.]]\n",
      "z2 : [[ 12.]]\n",
      "z3 : [[ 18.]]\n",
      "z4 : [[ 24.]]\n"
     ]
    }
   ],
   "source": [
    "data = np.array([[1, 2, 3]], dtype = 'float32')\n",
    "\n",
    "x = T.fmatrix('x')\n",
    "\n",
    "w = theano.shared(np.asarray([[.0, .0, .0]], dtype = 'float32'))\n",
    "\n",
    "z = x.dot(w.T)\n",
    "\n",
    "update = [[w, w + 1.0]]\n",
    "\n",
    "net_input = theano.function(inputs = [], updates = update, givens = {x: data}, outputs = z)\n",
    "\n",
    "for i in range(5):\n",
    "    print 'z%d :' % i, net_input()"
   ]
  },
  {
   "cell_type": "markdown",
   "metadata": {
    "deletable": true,
    "editable": true
   },
   "source": [
    "## a linear regression"
   ]
  },
  {
   "cell_type": "code",
   "execution_count": 9,
   "metadata": {
    "collapsed": true,
    "deletable": true,
    "editable": true
   },
   "outputs": [],
   "source": [
    "# data\n",
    "X_train = np.asarray([[.0], [1.0], [2.0], [3.0], [4.0], [5.0], [6.0], [7.0], [8.0], [9.0]], dtype = 'float32')\n",
    "y_train = np.asarray([1.0, 1.3, 3.1, 2.0, 5.0, 6.3, 6.6, 7.4, 8.0, 9.0], dtype = 'float32')"
   ]
  },
  {
   "cell_type": "code",
   "execution_count": 10,
   "metadata": {
    "collapsed": true,
    "deletable": true,
    "editable": true
   },
   "outputs": [],
   "source": [
    "def train_linreg(X_train, y_train, eta, epochs):\n",
    "    costs = []\n",
    "    # initialize\n",
    "    eta0 = T.fscalar(name='eta0')\n",
    "    y = T.fvector(name='y')\n",
    "    X = T.fmatrix(name='X')\n",
    "    w = theano.shared(np.zeros(shape = (X_train.shape[1] + 1), dtype = 'float32'), name = 'w')\n",
    "    \n",
    "    # calculate cost\n",
    "    net_input = T.dot(X, w[1:]) + w[0]\n",
    "    errors = y - net_input\n",
    "    cost = T.sum(T.pow(errors, 2))\n",
    "    \n",
    "    # gradient update\n",
    "    gradient = T.grad(cost, wrt = w)\n",
    "    update = [(w, w - eta0 * gradient)]\n",
    "    \n",
    "    # compile model\n",
    "    train = theano.function(inputs=[eta0], outputs=cost, updates=update, givens={X:X_train, y:y_train})\n",
    "    \n",
    "    for _ in range(epochs):\n",
    "        costs.append(train(eta))\n",
    "    \n",
    "    return costs, w"
   ]
  },
  {
   "cell_type": "code",
   "execution_count": 11,
   "metadata": {
    "collapsed": false,
    "deletable": true,
    "editable": true
   },
   "outputs": [
    {
     "data": {
      "image/png": "[encoded data removed]",
      "text/plain": [
       "<matplotlib.figure.Figure at 0x10c2c15d0>"
      ]
     },
     "metadata": {},
     "output_type": "display_data"
    }
   ],
   "source": [
    "import matplotlib.pyplot as plt\n",
    "%matplotlib inline\n",
    "\n",
    "costs, w = train_linreg(X_train, y_train, eta = .001, epochs = 10)\n",
    "\n",
    "plt.plot(range(1, len(costs)+1), costs)\n",
    "plt.tight_layout()\n",
    "plt.xlabel('Epoch')\n",
    "plt.ylabel('Cost')\n",
    "plt.show()"
   ]
  },
  {
   "cell_type": "code",
   "execution_count": 12,
   "metadata": {
    "collapsed": false,
    "deletable": true,
    "editable": true
   },
   "outputs": [
    {
     "data": {
      "image/png": "[encoded data removed]",
      "text/plain": [
       "<matplotlib.figure.Figure at 0x110137250>"
      ]
     },
     "metadata": {},
     "output_type": "display_data"
    }
   ],
   "source": [
    "def predict_linreg(X, w):\n",
    "    Xt = T.fmatrix(name = 'X')\n",
    "    net_input = T.dot(Xt, w[1:]) + w[0]\n",
    "    predict = theano.function(inputs=[Xt], givens={w:w}, outputs=net_input)\n",
    "    return predict(X)\n",
    "\n",
    "plt.scatter(X_train, y_train, marker='s', s=50)\n",
    "plt.plot(range(X_train.shape[0]), predict_linreg(X_train, w), color='grey', marker='o', markersize=4, linewidth=3)\n",
    "plt.xlabel('x')\n",
    "plt.ylabel('y')\n",
    "plt.show()"
   ]
  },
  {
   "cell_type": "markdown",
   "metadata": {
    "deletable": true,
    "editable": true
   },
   "source": [
    "## Keras"
   ]
  },
  {
   "cell_type": "code",
   "execution_count": 4,
   "metadata": {
    "collapsed": true,
    "deletable": true,
    "editable": true
   },
   "outputs": [],
   "source": [
    "import struct\n",
    "import os\n",
    "\n",
    "def load_mnist(path, kind):\n",
    "    labels_path = os.path.join(path, '%s-labels-idx1-ubyte' % kind)\n",
    "    images_path = os.path.join(path, '%s-images-idx3-ubyte' % kind)\n",
    "    \n",
    "    with open(labels_path, 'rb') as lbpath:\n",
    "        magic, n = struct.unpack('>II', lbpath.read(8))\n",
    "        labels = np.fromfile(lbpath, dtype=np.uint8)\n",
    "        \n",
    "    with open(images_path, 'rb') as imgpath:\n",
    "        magic, num, rows, cols = struct.unpack('>IIII', imgpath.read(16))\n",
    "        images = np.fromfile(imgpath, dtype=np.uint8).reshape(len(labels), 784)\n",
    "    return images, labels"
   ]
  },
  {
   "cell_type": "code",
   "execution_count": 5,
   "metadata": {
    "collapsed": false,
    "deletable": true,
    "editable": true
   },
   "outputs": [
    {
     "name": "stdout",
     "output_type": "stream",
     "text": [
      "Rows: 60000, columns: 784\n",
      "Rows: 10000, columns: 784\n"
     ]
    }
   ],
   "source": [
    "X_train, y_train = load_mnist('./data/MNIST_data/', 'train')\n",
    "print 'Rows: %d, columns: %d' % (X_train.shape[0], X_train.shape[1])\n",
    "X_test, y_test = load_mnist('./data/MNIST_data/', 't10k')\n",
    "print 'Rows: %d, columns: %d' % (X_test.shape[0], X_test.shape[1])"
   ]
  },
  {
   "cell_type": "code",
   "execution_count": 6,
   "metadata": {
    "collapsed": true,
    "deletable": true,
    "editable": true
   },
   "outputs": [],
   "source": [
    "# convert data type into float 32 \n",
    "X_train = X_train.astype('float32')\n",
    "X_test = X_test.astype('float32')"
   ]
  },
  {
   "cell_type": "code",
   "execution_count": 7,
   "metadata": {
    "collapsed": false,
    "deletable": true,
    "editable": true
   },
   "outputs": [
    {
     "name": "stdout",
     "output_type": "stream",
     "text": [
      "First 3 labels:  [5 0 4]\n",
      "First 3 labels (one-hot): \n",
      "[[ 0.  0.  0.  0.  0.  1.  0.  0.  0.  0.]\n",
      " [ 1.  0.  0.  0.  0.  0.  0.  0.  0.  0.]\n",
      " [ 0.  0.  0.  0.  1.  0.  0.  0.  0.  0.]]\n"
     ]
    },
    {
     "name": "stderr",
     "output_type": "stream",
     "text": [
      "Using Theano backend.\n"
     ]
    }
   ],
   "source": [
    "# switch Keras backend: https://keras.io/backend/\n",
    "# convert class labels into one-hot format\n",
    "from keras.utils import np_utils\n",
    "\n",
    "print 'First 3 labels: ', y_train[:3]\n",
    "\n",
    "y_train_ohe = np_utils.to_categorical(y_train)\n",
    "print 'First 3 labels (one-hot):', '\\n' , y_train_ohe[:3]"
   ]
  },
  {
   "cell_type": "code",
   "execution_count": 8,
   "metadata": {
    "collapsed": false,
    "deletable": true,
    "editable": true
   },
   "outputs": [
    {
     "name": "stderr",
     "output_type": "stream",
     "text": [
      "/Users/jqu/miniconda2/lib/python2.7/site-packages/ipykernel/__main__.py:12: UserWarning: Update your `Dense` call to the Keras 2 API: `Dense(kernel_initializer=\"uniform\", activation=\"tanh\", input_dim=784, units=50)`\n",
      "/Users/jqu/miniconda2/lib/python2.7/site-packages/ipykernel/__main__.py:17: UserWarning: Update your `Dense` call to the Keras 2 API: `Dense(kernel_initializer=\"uniform\", activation=\"tanh\", input_dim=50, units=50)`\n",
      "/Users/jqu/miniconda2/lib/python2.7/site-packages/ipykernel/__main__.py:22: UserWarning: Update your `Dense` call to the Keras 2 API: `Dense(kernel_initializer=\"uniform\", activation=\"softmax\", input_dim=50, units=10)`\n"
     ]
    }
   ],
   "source": [
    "# model setup\n",
    "from keras.models import Sequential\n",
    "from keras.layers.core import Dense\n",
    "from keras.optimizers import SGD\n",
    "\n",
    "np.random.seed(1)\n",
    "\n",
    "model = Sequential()\n",
    "model.add(Dense(input_dim=X_train.shape[1], \n",
    "               output_dim = 50, \n",
    "               init = 'uniform',\n",
    "               activation = 'tanh'))\n",
    "\n",
    "model.add(Dense(input_dim=50,\n",
    "               output_dim=50,\n",
    "               init='uniform',\n",
    "               activation='tanh'))\n",
    "\n",
    "model.add(Dense(input_dim=50,\n",
    "               output_dim=y_train_ohe.shape[1],\n",
    "               init='uniform',\n",
    "               activation='softmax'))\n",
    "\n",
    "sgd = SGD(lr = .001, decay = 1e-7, momentum = .9)\n",
    "\n",
    "model.compile(loss = 'categorical_crossentropy', optimizer=sgd, metrics=['accuracy'])"
   ]
  },
  {
   "cell_type": "code",
   "execution_count": 9,
   "metadata": {
    "collapsed": false,
    "deletable": true,
    "editable": true
   },
   "outputs": [
    {
     "name": "stderr",
     "output_type": "stream",
     "text": [
      "/Users/jqu/miniconda2/lib/python2.7/site-packages/keras/models.py:826: UserWarning: The `nb_epoch` argument in `fit` has been renamed `epochs`.\n",
      "  warnings.warn('The `nb_epoch` argument in `fit` '\n"
     ]
    },
    {
     "name": "stdout",
     "output_type": "stream",
     "text": [
      "Train on 54000 samples, validate on 6000 samples\n",
      "Epoch 1/50\n",
      "54000/54000 [==============================] - 1s - loss: 2.2244 - acc: 0.4249 - val_loss: 2.1019 - val_acc: 0.5708\n",
      "Epoch 2/50\n",
      "54000/54000 [==============================] - 1s - loss: 1.8739 - acc: 0.5312 - val_loss: 1.5897 - val_acc: 0.5882\n",
      "Epoch 3/50\n",
      "54000/54000 [==============================] - 1s - loss: 1.3833 - acc: 0.6134 - val_loss: 1.1479 - val_acc: 0.7125\n",
      "Epoch 4/50\n",
      "54000/54000 [==============================] - 1s - loss: 1.0381 - acc: 0.7225 - val_loss: 0.8657 - val_acc: 0.7917\n",
      "Epoch 5/50\n",
      "54000/54000 [==============================] - 1s - loss: 0.8179 - acc: 0.7964 - val_loss: 0.6823 - val_acc: 0.8523\n",
      "Epoch 6/50\n",
      "54000/54000 [==============================] - 1s - loss: 0.6761 - acc: 0.8374 - val_loss: 0.5697 - val_acc: 0.8795\n",
      "Epoch 7/50\n",
      "54000/54000 [==============================] - 1s - loss: 0.5837 - acc: 0.8582 - val_loss: 0.4909 - val_acc: 0.8908\n",
      "Epoch 8/50\n",
      "54000/54000 [==============================] - 1s - loss: 0.5187 - acc: 0.8709 - val_loss: 0.4471 - val_acc: 0.8947\n",
      "Epoch 9/50\n",
      "54000/54000 [==============================] - 1s - loss: 0.4697 - acc: 0.8808 - val_loss: 0.4000 - val_acc: 0.9035\n",
      "Epoch 10/50\n",
      "54000/54000 [==============================] - 1s - loss: 0.4341 - acc: 0.8896 - val_loss: 0.3734 - val_acc: 0.9117\n",
      "Epoch 11/50\n",
      "54000/54000 [==============================] - 1s - loss: 0.4104 - acc: 0.8940 - val_loss: 0.3524 - val_acc: 0.9132\n",
      "Epoch 12/50\n",
      "54000/54000 [==============================] - 1s - loss: 0.3870 - acc: 0.9000 - val_loss: 0.3330 - val_acc: 0.9167\n",
      "Epoch 13/50\n",
      "54000/54000 [==============================] - 1s - loss: 0.3671 - acc: 0.9028 - val_loss: 0.3218 - val_acc: 0.9182\n",
      "Epoch 14/50\n",
      "54000/54000 [==============================] - 1s - loss: 0.3523 - acc: 0.9061 - val_loss: 0.3081 - val_acc: 0.9228\n",
      "Epoch 15/50\n",
      "54000/54000 [==============================] - 1s - loss: 0.3410 - acc: 0.9083 - val_loss: 0.2983 - val_acc: 0.9237\n",
      "Epoch 16/50\n",
      "54000/54000 [==============================] - 1s - loss: 0.3315 - acc: 0.9104 - val_loss: 0.2900 - val_acc: 0.9240\n",
      "Epoch 17/50\n",
      "54000/54000 [==============================] - 1s - loss: 0.3216 - acc: 0.9128 - val_loss: 0.2709 - val_acc: 0.9290\n",
      "Epoch 18/50\n",
      "54000/54000 [==============================] - 1s - loss: 0.3087 - acc: 0.9149 - val_loss: 0.2707 - val_acc: 0.9267\n",
      "Epoch 19/50\n",
      "54000/54000 [==============================] - 1s - loss: 0.3049 - acc: 0.9158 - val_loss: 0.2695 - val_acc: 0.9290\n",
      "Epoch 20/50\n",
      "54000/54000 [==============================] - 1s - loss: 0.2991 - acc: 0.9162 - val_loss: 0.2625 - val_acc: 0.9293\n",
      "Epoch 21/50\n",
      "54000/54000 [==============================] - 1s - loss: 0.2937 - acc: 0.9180 - val_loss: 0.2541 - val_acc: 0.9305\n",
      "Epoch 22/50\n",
      "54000/54000 [==============================] - 1s - loss: 0.2864 - acc: 0.9200 - val_loss: 0.2476 - val_acc: 0.9348\n",
      "Epoch 23/50\n",
      "54000/54000 [==============================] - 1s - loss: 0.2781 - acc: 0.9210 - val_loss: 0.2451 - val_acc: 0.9313\n",
      "Epoch 24/50\n",
      "54000/54000 [==============================] - 1s - loss: 0.2651 - acc: 0.9263 - val_loss: 0.2336 - val_acc: 0.9363\n",
      "Epoch 25/50\n",
      "54000/54000 [==============================] - 1s - loss: 0.2671 - acc: 0.9247 - val_loss: 0.2375 - val_acc: 0.9365\n",
      "Epoch 26/50\n",
      "54000/54000 [==============================] - 1s - loss: 0.2665 - acc: 0.9246 - val_loss: 0.2329 - val_acc: 0.9373\n",
      "Epoch 27/50\n",
      "54000/54000 [==============================] - 1s - loss: 0.2603 - acc: 0.9260 - val_loss: 0.2351 - val_acc: 0.9357\n",
      "Epoch 28/50\n",
      "54000/54000 [==============================] - 1s - loss: 0.2642 - acc: 0.9238 - val_loss: 0.2323 - val_acc: 0.9378\n",
      "Epoch 29/50\n",
      "54000/54000 [==============================] - 1s - loss: 0.2615 - acc: 0.9246 - val_loss: 0.2168 - val_acc: 0.9373\n",
      "Epoch 30/50\n",
      "54000/54000 [==============================] - 1s - loss: 0.2574 - acc: 0.9254 - val_loss: 0.2360 - val_acc: 0.9365\n",
      "Epoch 31/50\n",
      "54000/54000 [==============================] - 1s - loss: 0.2515 - acc: 0.9271 - val_loss: 0.2153 - val_acc: 0.9427\n",
      "Epoch 32/50\n",
      "54000/54000 [==============================] - 0s - loss: 0.2437 - acc: 0.9295 - val_loss: 0.2116 - val_acc: 0.9417\n",
      "Epoch 33/50\n",
      "54000/54000 [==============================] - 0s - loss: 0.2325 - acc: 0.9332 - val_loss: 0.2135 - val_acc: 0.9410\n",
      "Epoch 34/50\n",
      "54000/54000 [==============================] - 1s - loss: 0.2315 - acc: 0.9323 - val_loss: 0.2012 - val_acc: 0.9433\n",
      "Epoch 35/50\n",
      "54000/54000 [==============================] - 1s - loss: 0.2351 - acc: 0.9320 - val_loss: 0.2124 - val_acc: 0.9422\n",
      "Epoch 36/50\n",
      "54000/54000 [==============================] - 1s - loss: 0.2270 - acc: 0.9348 - val_loss: 0.2023 - val_acc: 0.9472\n",
      "Epoch 37/50\n",
      "54000/54000 [==============================] - 1s - loss: 0.2214 - acc: 0.9353 - val_loss: 0.2043 - val_acc: 0.9415\n",
      "Epoch 38/50\n",
      "54000/54000 [==============================] - 1s - loss: 0.2203 - acc: 0.9363 - val_loss: 0.2006 - val_acc: 0.9437\n",
      "Epoch 39/50\n",
      "54000/54000 [==============================] - 1s - loss: 0.2210 - acc: 0.9354 - val_loss: 0.1952 - val_acc: 0.9470\n",
      "Epoch 40/50\n",
      "54000/54000 [==============================] - 1s - loss: 0.2110 - acc: 0.9389 - val_loss: 0.1985 - val_acc: 0.9475\n",
      "Epoch 41/50\n",
      "54000/54000 [==============================] - 1s - loss: 0.2113 - acc: 0.9383 - val_loss: 0.1976 - val_acc: 0.9443\n",
      "Epoch 42/50\n",
      "54000/54000 [==============================] - 1s - loss: 0.2151 - acc: 0.9371 - val_loss: 0.1910 - val_acc: 0.9490\n",
      "Epoch 43/50\n",
      "54000/54000 [==============================] - 1s - loss: 0.2098 - acc: 0.9395 - val_loss: 0.1961 - val_acc: 0.9450\n",
      "Epoch 44/50\n",
      "54000/54000 [==============================] - 1s - loss: 0.2149 - acc: 0.9375 - val_loss: 0.1928 - val_acc: 0.9482\n",
      "Epoch 45/50\n",
      "54000/54000 [==============================] - 1s - loss: 0.2101 - acc: 0.9396 - val_loss: 0.1934 - val_acc: 0.9460\n",
      "Epoch 46/50\n",
      "54000/54000 [==============================] - 1s - loss: 0.2045 - acc: 0.9406 - val_loss: 0.1930 - val_acc: 0.9480\n",
      "Epoch 47/50\n",
      "54000/54000 [==============================] - 1s - loss: 0.2030 - acc: 0.9410 - val_loss: 0.1819 - val_acc: 0.9510\n",
      "Epoch 48/50\n",
      "54000/54000 [==============================] - 1s - loss: 0.1993 - acc: 0.9418 - val_loss: 0.1823 - val_acc: 0.9478\n",
      "Epoch 49/50\n",
      "54000/54000 [==============================] - 1s - loss: 0.1999 - acc: 0.9412 - val_loss: 0.1816 - val_acc: 0.9460\n",
      "Epoch 50/50\n",
      "54000/54000 [==============================] - 1s - loss: 0.1918 - acc: 0.9438 - val_loss: 0.1805 - val_acc: 0.9505\n"
     ]
    },
    {
     "data": {
      "text/plain": [
       "<keras.callbacks.History at 0x125f136d0>"
      ]
     },
     "execution_count": 9,
     "metadata": {},
     "output_type": "execute_result"
    }
   ],
   "source": [
    "# training\n",
    "model.fit(X_train, \n",
    "         y_train_ohe,\n",
    "         nb_epoch = 50,\n",
    "         batch_size = 300,\n",
    "         verbose = 1,\n",
    "         validation_split = .1)"
   ]
  },
  {
   "cell_type": "code",
   "execution_count": 14,
   "metadata": {
    "collapsed": false
   },
   "outputs": [
    {
     "name": "stdout",
     "output_type": "stream",
     "text": [
      "First 3 prediction: [3 0 4]\n"
     ]
    }
   ],
   "source": [
    "# predict\n",
    "y_train_pred = model.predict_classes(X_train, verbose = 0)\n",
    "print 'First 3 prediction:', y_train_pred[:3]"
   ]
  },
  {
   "cell_type": "code",
   "execution_count": 15,
   "metadata": {
    "collapsed": false
   },
   "outputs": [
    {
     "name": "stdout",
     "output_type": "stream",
     "text": [
      "Training accuracy: 94.51%\n",
      "Testing accuracy: 94.06%\n"
     ]
    }
   ],
   "source": [
    "train_acc = np.sum(y_train == y_train_pred) / (X_train.shape[0] * 1.0)\n",
    "print 'Training accuracy: %.2f%%' % (train_acc * 100)\n",
    "\n",
    "y_test_pred = model.predict_classes(X_test, verbose = 0)\n",
    "test_acc = np.sum(y_test_pred == y_test) / (X_test.shape[0] * 1.0)\n",
    "print 'Testing accuracy: %.2f%%' % (test_acc * 100)"
   ]
  },
  {
   "cell_type": "code",
   "execution_count": 16,
   "metadata": {
    "collapsed": false
   },
   "outputs": [
    {
     "data": {
      "text/plain": [
       "60000"
      ]
     },
     "execution_count": 16,
     "metadata": {},
     "output_type": "execute_result"
    }
   ],
   "source": [
    "X_train.shape[0]"
   ]
  }
 ],
 "metadata": {
  "anaconda-cloud": {},
  "kernelspec": {
   "display_name": "Python [conda root]",
   "language": "python",
   "name": "conda-root-py"
  },
  "language_info": {
   "codemirror_mode": {
    "name": "ipython",
    "version": 2
   },
   "file_extension": ".py",
   "mimetype": "text/x-python",
   "name": "python",
   "nbconvert_exporter": "python",
   "pygments_lexer": "ipython2",
   "version": "2.7.12"
  }
 },
 "nbformat": 4,
 "nbformat_minor": 2
}
